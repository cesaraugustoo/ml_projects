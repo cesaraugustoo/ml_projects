{
 "cells": [
  {
   "cell_type": "markdown",
   "metadata": {},
   "source": [
    "#### **Linear Regression** aims to find the best-fit line that minimizes the error between predicted and actual values. Mathematically, this involves:\n",
    "#### - Predicting $y$ as $$\\hat{y} = w_1x + w_0$$ (for one feature).\n",
    "#### - Minimizing the cost function $$J(w) = \\frac{1}{2m} \\sum_{i=1}^m (\\hat{y}_i - y_i)^2$$, where $m$ is the number of data points."
   ]
  },
  {
   "cell_type": "code",
   "execution_count": 1,
   "metadata": {},
   "outputs": [],
   "source": [
    "import numpy as np\n",
    "import matplotlib.pyplot as plt"
   ]
  },
  {
   "cell_type": "code",
   "execution_count": 2,
   "metadata": {},
   "outputs": [],
   "source": [
    "x =np.array([1, 2, 3, 4, 5]) # Features\n",
    "y = np.array([1.5, 3.1, 4.5, 6.3, 7.8]) # Target\n",
    "m = len(y)"
   ]
  },
  {
   "cell_type": "code",
   "execution_count": 3,
   "metadata": {},
   "outputs": [],
   "source": [
    "def lin_reg(x, w, b):\n",
    "    return w * x + b"
   ]
  },
  {
   "cell_type": "code",
   "execution_count": 4,
   "metadata": {},
   "outputs": [],
   "source": [
    "def cost_function(x, y, w, b):\n",
    "    predictions = lin_reg(x, w, b)\n",
    "    cost = (1 / (2 * m)) * np.sum((predictions - y) ** 2)\n",
    "    return cost"
   ]
  },
  {
   "cell_type": "markdown",
   "metadata": {},
   "source": [
    "#### Compute gradients for $w$ and $b$:\n",
    "#### $$\\frac{\\partial J}{\\partial w} = \\frac{1}{m} \\sum (\\hat{y} - y)x \\qquad \\text{and} \\qquad \\frac{\\partial J}{\\partial b} = \\frac{1}{m} \\sum (\\hat{y} - y)$$\n",
    "#### And update them iteratively:\n",
    "#### $$w := w - \\alpha \\frac{\\partial J}{\\partial w} \\qquad \\text{and} \\qquad b := b - \\frac{\\partial J}{\\partial b}$$, where $\\alpha$ is the learning rate"
   ]
  },
  {
   "cell_type": "code",
   "execution_count": 5,
   "metadata": {},
   "outputs": [],
   "source": [
    "def gradient_descent(x, y, w, b, alpha, iter):\n",
    "    for i in range(iter):\n",
    "        predictions = lin_reg(x, w, b)\n",
    "        error = predictions - y\n",
    "        dw = (1 / m) * np.dot(error, x)\n",
    "        db = (1 / m) * np.sum(error)\n",
    "\n",
    "        # Update parameters\n",
    "        w -= alpha * dw\n",
    "        b -= alpha * db\n",
    "\n",
    "        # Every 100 iterations print the cost\n",
    "        if i % 100 == 0:\n",
    "            cost = cost_function(x, y, w, b)\n",
    "            print(f\"Iteration {i}: Cost: {cost:.4f}\")\n",
    "    return w, b"
   ]
  },
  {
   "cell_type": "code",
   "execution_count": 6,
   "metadata": {},
   "outputs": [],
   "source": [
    "# Initialization paramaters\n",
    "w_init = 0 # Start with a slope of 0\n",
    "b_init = 0 # Start wiht and intercept of 0\n",
    "alpha = 0.01 # Learning rate\n",
    "iterations = 1000"
   ]
  },
  {
   "cell_type": "code",
   "execution_count": null,
   "metadata": {},
   "outputs": [],
   "source": [
    "# Train the model\n",
    "w, b = gradient_descent(x, y, w_init, b_init, alpha, iterations)\n",
    "print(f\"Trained parameters: w = {w:.4f}, b = {b:.4f}\")"
   ]
  },
  {
   "cell_type": "code",
   "execution_count": null,
   "metadata": {},
   "outputs": [],
   "source": [
    "# Calculate final cost\n",
    "final_cost = cost_function(x, y, w, b)\n",
    "print(f\"Final cost: {final_cost:.4f}\")"
   ]
  },
  {
   "cell_type": "code",
   "execution_count": null,
   "metadata": {},
   "outputs": [],
   "source": [
    "# Plot the data\n",
    "plt.scatter(x, y, label=\"Data points\", color=\"blue\")\n",
    "plt.plot(x, lin_reg(x, w, b), label=\"Regression line\", color=\"red\")\n",
    "plt.xlabel(\"x\")\n",
    "plt.ylabel(\"y\")\n",
    "plt.legend()\n",
    "plt.show()"
   ]
  },
  {
   "cell_type": "markdown",
   "metadata": {},
   "source": [
    "#### To extend **Linear Regression** to **multiple features** (also known as **Multivariate Linear Regression**), we follow a similar process but modify the mathematical representation and operations to handle vectorized data efficiently.\n",
    "#### The hypothesis function becomes:\n",
    "#### $$\\hat{y} = X \\cdot \\mathbf{w} + b$$\n",
    "#### Where:\n",
    "#### - $ X $ is the $ m \\times n $ matrix of input features ($ m $: samples, $ n $: features).\n",
    "#### - $ \\mathbf{w} $ is the $ n \\times 1 $ vector of weights.\n",
    "#### - $ b $ is the bias (scalar).\n",
    "\n",
    "#### The cost function remains the Mean Squared Error:\n",
    "#### $$J(\\mathbf{w}, b) = \\frac{1}{2m} \\sum_{i=1}^m (\\hat{y}_i - y_i)^2$$"
   ]
  },
  {
   "cell_type": "code",
   "execution_count": 10,
   "metadata": {},
   "outputs": [],
   "source": [
    "X = np.array([[1, 2],\n",
    "              [2, 3],\n",
    "              [3, 4],\n",
    "              [4, 5],\n",
    "              [5, 6]]) # Features (5 samples with 2 features)\n",
    "Y = np.array([5, 7, 9, 11, 13]) # Target\n",
    "m, n = X.shape # m: number of samples, n: number of features"
   ]
  },
  {
   "cell_type": "code",
   "execution_count": 11,
   "metadata": {},
   "outputs": [],
   "source": [
    "# Normalization (feature scaling)\n",
    "X = (X - np.mean(X, axis=0)) / np.std(X, axis=0)"
   ]
  },
  {
   "cell_type": "code",
   "execution_count": 12,
   "metadata": {},
   "outputs": [],
   "source": [
    "def mult_lin_reg(X, w, b):\n",
    "    return np.dot(X, w) + b"
   ]
  },
  {
   "cell_type": "code",
   "execution_count": 13,
   "metadata": {},
   "outputs": [],
   "source": [
    "def mult_cost_function(X, Y, w, b):\n",
    "    predictions = mult_lin_reg(X, w, b)\n",
    "    cost = (1 / (2 * m)) * np.sum((predictions - Y) ** 2)\n",
    "    return cost"
   ]
  },
  {
   "cell_type": "code",
   "execution_count": 14,
   "metadata": {},
   "outputs": [],
   "source": [
    "def mult_grad_descent(X, Y, w, b, alpha, iter):\n",
    "    for i in range(iter):\n",
    "        predictions = mult_lin_reg(X, w, b)\n",
    "        error = predictions - Y\n",
    "        dw = (1 / m) * np.dot(X.T, error)\n",
    "        db = (1 / m) * np.sum(error)\n",
    "\n",
    "        # Update parameters\n",
    "        w -= alpha * dw\n",
    "        b -= alpha * db\n",
    "\n",
    "        # Every 100 iterations print the cost\n",
    "        if i % 100 == 0:\n",
    "            cost = mult_cost_function(X, Y, w, b)\n",
    "            print(f\"Iteration {i}: Cost {cost:.4f}\")\n",
    "    return w, b"
   ]
  },
  {
   "cell_type": "code",
   "execution_count": 15,
   "metadata": {},
   "outputs": [],
   "source": [
    "# Initialize parameters\n",
    "w_init = np.zeros(n) # Weights [vector of zeros with shape (n, )]\n",
    "b_init =0 # Bias (scalar)\n",
    "alpha = 0.01\n",
    "iterations = 1000"
   ]
  },
  {
   "cell_type": "code",
   "execution_count": null,
   "metadata": {},
   "outputs": [],
   "source": [
    "# Train model\n",
    "w, b = mult_grad_descent(X, Y, w_init, b_init, alpha, iterations)\n",
    "print(f\"Trained parameters: w = {w}, b = {b}\")"
   ]
  },
  {
   "cell_type": "code",
   "execution_count": null,
   "metadata": {},
   "outputs": [],
   "source": [
    "# Final cost\n",
    "final_cost = mult_cost_function(X, Y, w, b)\n",
    "print(f\"Final cost: {final_cost:.4f}\")"
   ]
  },
  {
   "cell_type": "code",
   "execution_count": 18,
   "metadata": {},
   "outputs": [],
   "source": [
    "# Plot the data (with 2 features, a 3D plot can be used to show the fit)\n",
    "from mpl_toolkits.mplot3d import Axes3D"
   ]
  },
  {
   "cell_type": "code",
   "execution_count": null,
   "metadata": {},
   "outputs": [],
   "source": [
    "fig = plt.figure()\n",
    "ax = fig.add_subplot(111, projection='3d')\n",
    "ax.scatter(X[:, 0], X[:, 1], Y, color='blue', label='Data points')\n",
    "\n",
    "# Generate a grid for the regression plane\n",
    "x1, x2 = np.meshgrid(np.linspace(X[:, 0].min(), X[:, 0].max(), 10),\n",
    "                     np.linspace(X[:, 1].min(), X[:, 1].max(), 10))\n",
    "\n",
    "y_pred = w[0] * x1 + w[1] * x2 + b\n",
    "\n",
    "ax.plot_surface(x1, x2, y_pred, color='red', alpha=0.5, label='Regression plane')\n",
    "\n",
    "ax.set_xlabel('Feature 1')\n",
    "ax.set_ylabel('Feature 2')\n",
    "ax.set_zlabel('Target')\n",
    "plt.legend()\n",
    "plt.show()"
   ]
  },
  {
   "cell_type": "markdown",
   "metadata": {},
   "source": [
    "#### **Regularization** is a technique to reduce overfitting by adding a penalty to the cost function. In **L2 Regularization** (Ridge Regression), we add the squared magnitude of the weights to the cost function:\n",
    "#### $$J(\\mathbf{w}, b) = \\frac{1}{2m} \\sum (\\hat{y} - y)^2 + \\frac{\\lambda}{2m} \\|\\mathbf{w}\\|^2$$\n",
    "#### Where $\\lambda$ is the regularization parameter that controls the strength of the penalty. And $\\|\\mathbf{w}\\|^2 = \\sum w_i^2$ is the squared magnitude of the weights.\n",
    "#### This penalizes large values of $w$, forcing the model to prefer smaller weights.\n",
    "#### The gradient descent must also be updated, but regularization affects only the weight updates, not the bias $b$:\n",
    "#### $$\\frac{\\partial J}{\\partial w} = \\frac{1}{m} \\sum (\\hat{y} - y)X + \\frac{\\lambda}{m} \\mathbf{w} \\qquad \\text{and} \\qquad \\frac{\\partial J}{\\partial b} = \\frac{1}{m} \\sum (\\hat{y} - y)$$"
   ]
  },
  {
   "cell_type": "code",
   "execution_count": 20,
   "metadata": {},
   "outputs": [],
   "source": [
    "def regularized_cost(X, Y, w, b, lambda_):\n",
    "    predictions = mult_lin_reg(X, w, b)\n",
    "    cost = (1 / (2 * m)) * np.sum((predictions - Y) ** 2)\n",
    "    reg_term = (lambda_ / (2 * m)) * np.sum(w ** 2) # Regularization term\n",
    "    return cost + reg_term"
   ]
  },
  {
   "cell_type": "code",
   "execution_count": 24,
   "metadata": {},
   "outputs": [],
   "source": [
    "def regularized_grad_descent(X, Y, w, b, alpha, lambda_, iter):\n",
    "    for i in range(iter):\n",
    "        predictions = mult_lin_reg(X, w, b)\n",
    "        error = predictions - Y\n",
    "\n",
    "        # Gradients with regularization\n",
    "        dw = (1 / m) * np.dot(X.T, error) + (lambda_ / m) * w\n",
    "        db = (1 / m) * np.sum(error)\n",
    "\n",
    "        # Update parameters\n",
    "        w -= alpha * dw\n",
    "        b -= alpha * db\n",
    "        \n",
    "        # Every 100 iterations print the cost\n",
    "        if i % 100 == 0:\n",
    "            cost = mult_cost_function(X, Y, w, b)\n",
    "            print(f\"Iteration {i}: Cost {cost:.4f}\")\n",
    "    return w, b"
   ]
  },
  {
   "cell_type": "code",
   "execution_count": 22,
   "metadata": {},
   "outputs": [],
   "source": [
    "# Initialize parameters\n",
    "lambda_ = 0.1 # Regularization strength\n",
    "w_init = np.zeros(n)\n",
    "b_init = 0"
   ]
  },
  {
   "cell_type": "code",
   "execution_count": null,
   "metadata": {},
   "outputs": [],
   "source": [
    "# Train model\n",
    "w, b = regularized_grad_descent(X, Y, w_init, b_init, alpha, lambda_, iterations)\n",
    "print(f\"Trained parameters with regularization: w = {w}, b = {b}\")"
   ]
  },
  {
   "cell_type": "code",
   "execution_count": null,
   "metadata": {},
   "outputs": [],
   "source": [
    "# Final cost\n",
    "final_cost = regularized_cost(X, Y, w, b, lambda_)\n",
    "print(f\"Final regularized cost: {final_cost:.4f}\")"
   ]
  },
  {
   "cell_type": "markdown",
   "metadata": {},
   "source": [
    "#### **Feature selection** reduces dimensionality by identifying and retaining the most relevant features. It improves model interpretability and reduces overfitting.\n",
    "#### Common methods to assess feature relevance:\n",
    "#### 1. **Correlation**\n",
    "#### Use Pearson correlation to measure the linear relationship between features and the target, then eliminates features weakly correlated with the target or highly correlated with one another (redundant features).\n",
    "#### **Steps**\n",
    "#### 1. Compute correlation coefficients between each feature and the target.\n",
    "#### 2. Remove features with correlation below a threshold.\n",
    "#### 3. Optionally, remove one of any pair of features with high inter-correlation."
   ]
  },
  {
   "cell_type": "code",
   "execution_count": 33,
   "metadata": {},
   "outputs": [],
   "source": [
    "def select_features_by_correlation(X, Y, target_threshold=0.2, inter_feature_threshold=0.8):\n",
    "    # Correlation with the target\n",
    "    target_corr = np.abs(np.corrcoef(X.T, Y))[-1, :-1] # Correlation of features with Y\n",
    "    selected_indices = np.where(target_corr > target_threshold)[0]\n",
    "\n",
    "    # Reduce X to selected features\n",
    "    X_selected = X[:, selected_indices]\n",
    "\n",
    "    # Inter-feature correlation\n",
    "    inter_corr = np.corrcoef(X_selected, rowvar=False)\n",
    "    redudant_features = set()\n",
    "\n",
    "    for i in range(inter_corr.shape[0]):\n",
    "        for j in range(i + 1, inter_corr.shape[1]):\n",
    "            if abs(inter_corr[i, j]) > inter_feature_threshold:\n",
    "                redudant_features.add(j)\n",
    "    \n",
    "    # Remove redundant features\n",
    "    non_redundant_indices = [i for i in range(X_selected.shape[1]) if i not in redudant_features]\n",
    "    return X_selected[:, non_redundant_indices], selected_indices[non_redundant_indices]"
   ]
  },
  {
   "cell_type": "code",
   "execution_count": 39,
   "metadata": {},
   "outputs": [],
   "source": [
    "# Correlation-Based Dataset\n",
    "X_correlation = np.array([\n",
    "    [1, 2, 0.5],\n",
    "    [2, 4, 1],\n",
    "    [3, 6, 1.5],\n",
    "    [4, 8, 2]\n",
    "])  # The third feature is strongly correlated with the second feature.\n",
    "Y_correlation = np.array([10, 20, 30, 40])  # Target is perfectly correlated with the first feature.\n"
   ]
  },
  {
   "cell_type": "code",
   "execution_count": null,
   "metadata": {},
   "outputs": [],
   "source": [
    "X_selected, selected_indices = select_features_by_correlation(X_correlation, Y_correlation, target_threshold=0.1, inter_feature_threshold=0.9)\n",
    "print(f\"Correlation-Based - Selected features: {selected_indices}\")\n",
    "print(f\"Reduced dataset:\\n{X_selected}\")"
   ]
  },
  {
   "cell_type": "markdown",
   "metadata": {},
   "source": [
    "#### **Correlation-Based Feature Selection Visualization**\n",
    "#### This plot shows:\n",
    "#### - Correlation of each feature with the target variable.\n",
    "#### - Inter-feature correlation."
   ]
  },
  {
   "cell_type": "code",
   "execution_count": null,
   "metadata": {},
   "outputs": [],
   "source": [
    "def plot_correlation_matrix(X, Y, selected_indices):\n",
    "    plt.figure(figsize=(12, 6))\n",
    "\n",
    "    # Correlation matrix for all features\n",
    "    corr_matrix = np.corrcoef(np.hstack([X, Y.reshape(-1, 1)]), rowvar=False)\n",
    "    target_corr = corr_matrix[:-1, -1]  # Correlation with target\n",
    "\n",
    "    # Plot target correlations\n",
    "    plt.bar(range(1, len(target_corr) + 1), np.abs(target_corr), color=\"skyblue\", label=\"All Features\")\n",
    "    plt.scatter(\n",
    "        selected_indices + 1,\n",
    "        np.abs(target_corr[selected_indices]),\n",
    "        color=\"red\",\n",
    "        label=\"Selected Features\",\n",
    "        zorder=3,\n",
    "    )\n",
    "    plt.axhline(y=0.2, color=\"green\", linestyle=\"--\", label=\"Target Threshold\")\n",
    "    plt.title(\"Correlation-Based Feature Selection\")\n",
    "    plt.xlabel(\"Feature Index\")\n",
    "    plt.ylabel(\"Correlation with Target\")\n",
    "    plt.legend()\n",
    "    plt.show()\n",
    "\n",
    "plot_correlation_matrix(X_correlation, Y_correlation, selected_indices)"
   ]
  },
  {
   "cell_type": "markdown",
   "metadata": {},
   "source": [
    "#### 2. **Variance Threshold**\n",
    "#### Filters features with low variance, as they provide little information about the target."
   ]
  },
  {
   "cell_type": "code",
   "execution_count": 28,
   "metadata": {},
   "outputs": [],
   "source": [
    "def select_features_by_variance(X, threshold=0.1):\n",
    "    variances = np.var(X, axis=0)\n",
    "    selected_features = np.where(variances > threshold)[0]\n",
    "    return X[:, selected_features], selected_features"
   ]
  },
  {
   "cell_type": "code",
   "execution_count": 42,
   "metadata": {},
   "outputs": [],
   "source": [
    "# Variance Threshold Dataset\n",
    "X_variance = np.array([\n",
    "    [1, 0.1, 5],\n",
    "    [1, 0.1, 6],\n",
    "    [1, 0.1, 7],\n",
    "    [1, 0.1, 8]\n",
    "])  # The second feature has very low variance.\n",
    "Y_variance = np.array([1, 2, 3, 4])  # Target"
   ]
  },
  {
   "cell_type": "code",
   "execution_count": null,
   "metadata": {},
   "outputs": [],
   "source": [
    "X_selected, selected_indices = select_features_by_variance(X_variance, threshold=0.01)\n",
    "print(f\"Variance Threshold - Selected features: {selected_indices}\")\n",
    "print(f\"Reduced dataset:\\n{X_selected}\")"
   ]
  },
  {
   "cell_type": "markdown",
   "metadata": {},
   "source": [
    "#### **Variance Threshold Visualization**\n",
    "#### This plot highlights the low-variance feature being removed."
   ]
  },
  {
   "cell_type": "code",
   "execution_count": null,
   "metadata": {},
   "outputs": [],
   "source": [
    "# Before and after Variance Threshold\n",
    "def plot_variance_threshold(X_original, X_selected):\n",
    "    plt.figure(figsize=(10, 6))\n",
    "    feature_count = X_original.shape[1]\n",
    "    original_features = range(1, feature_count + 1)\n",
    "\n",
    "    # Variance of each feature\n",
    "    variances = np.var(X_original, axis=0)\n",
    "\n",
    "    # Plot original variances\n",
    "    plt.bar(original_features, variances, color=\"skyblue\", label=\"Original Features\")\n",
    "    selected_features = np.var(X_selected, axis=0)\n",
    "    plt.scatter(\n",
    "        range(1, len(selected_features) + 1),\n",
    "        selected_features,\n",
    "        color=\"red\",\n",
    "        label=\"Selected Features\",\n",
    "        zorder=3,\n",
    "    )\n",
    "    plt.axhline(y=0.01, color=\"green\", linestyle=\"--\", label=\"Threshold\")\n",
    "    plt.title(\"Variance Threshold: Feature Variances\")\n",
    "    plt.xlabel(\"Feature Index\")\n",
    "    plt.ylabel(\"Variance\")\n",
    "    plt.legend()\n",
    "    plt.show()\n",
    "\n",
    "plot_variance_threshold(X_variance, X_selected)\n"
   ]
  },
  {
   "cell_type": "markdown",
   "metadata": {},
   "source": [
    "#### **3. Recursive Feature Elimination (RFE)**\n",
    "#### Uses a model to iteratively eliminate the least important features based on their contribution to the model’s performance."
   ]
  },
  {
   "cell_type": "code",
   "execution_count": 49,
   "metadata": {},
   "outputs": [],
   "source": [
    "from sklearn.linear_model import LinearRegression\n",
    "from sklearn.feature_selection import RFE\n",
    "\n",
    "# Define the model\n",
    "model = LinearRegression()\n",
    "\n",
    "# Recursive feature elimination\n",
    "num_features_to_select = 2 # Number of features to retain\n",
    "rfe = RFE(estimator=model, n_features_to_select=num_features_to_select)\n",
    "X_selected = rfe.fit_transform(X, Y)"
   ]
  },
  {
   "cell_type": "code",
   "execution_count": 50,
   "metadata": {},
   "outputs": [],
   "source": [
    "from sklearn.datasets import make_regression\n",
    "\n",
    "# RFE Dataset: Generate a regression problem with 5 features\n",
    "X_rfe, Y_rfe = make_regression(n_samples=100, n_features=5, noise=0.1, random_state=42, coef=False)"
   ]
  },
  {
   "cell_type": "code",
   "execution_count": null,
   "metadata": {},
   "outputs": [],
   "source": [
    "print(\"\\nRFE Dataset (first 5 rows):\")\n",
    "print(X_rfe[:5])"
   ]
  },
  {
   "cell_type": "markdown",
   "metadata": {},
   "source": [
    "#### **Recursive Feature Elimination (RFE) Visualization**\n",
    "#### This plot shows the ranking of features after applying RFE."
   ]
  },
  {
   "cell_type": "code",
   "execution_count": null,
   "metadata": {},
   "outputs": [],
   "source": [
    "def plot_rfe_feature_ranking(rfe, X):\n",
    "    plt.figure(figsize=(10, 6))\n",
    "    feature_ranking = rfe.ranking_\n",
    "\n",
    "    # Plot feature ranking\n",
    "    plt.bar(range(1, len(feature_ranking) + 1), feature_ranking, color=\"skyblue\", label=\"Feature Ranking\")\n",
    "    plt.axhline(y=1, color=\"red\", linestyle=\"--\", label=\"Selected Features\")\n",
    "    plt.title(\"Recursive Feature Elimination (RFE) Rankings\")\n",
    "    plt.xlabel(\"Feature Index\")\n",
    "    plt.ylabel(\"Ranking\")\n",
    "    plt.legend()\n",
    "    plt.show()\n",
    "\n",
    "plot_rfe_feature_ranking(rfe, X_rfe)"
   ]
  },
  {
   "cell_type": "markdown",
   "metadata": {},
   "source": [
    "#### Combining all three methods, one can create a pipeline to combine these feature selection methods for more refined results:\n",
    "#### 1. **Apply Variance Threshold** to eliminate irrelevant features quickly.\n",
    "#### 2. **Use Correlation** to filter features based on their relationship with the target and inter-correlation.\n",
    "#### 3. **Refine with RFE** to rank the remaining features and select the best subset."
   ]
  },
  {
   "cell_type": "markdown",
   "metadata": {},
   "source": [
    "### **Comparison of Methods**\n",
    "\n",
    "| **Method**                  | **Strengths**                                        | **Weaknesses**                                   |\n",
    "|-----------------------------|----------------------------------------------------|------------------------------------------------|\n",
    "| **Variance Threshold**      | Fast and simple.                                   | Ignores relationship with the target.          |\n",
    "| **Correlation**             | Considers relevance to target and redundancy.      | Assumes linear relationships; may ignore non-linear patterns. |\n",
    "| **Recursive Feature Elimination (RFE)** | Accounts for feature interactions and model importance. | Computationally expensive for large datasets.  |"
   ]
  },
  {
   "cell_type": "markdown",
   "metadata": {},
   "source": [
    "#### **Use Case Scenarios**\n",
    "#### - **Small Datasets**: Use all three methods for better feature selection.\n",
    "#### - **Large Datasets**: Start with **Variance Threshold** and **Correlation** for speed; use **RFE** only if computationally feasible.\n",
    "#### - **High-Dimensional Datasets**: Combine Variance Threshold and Correlation, and avoid RFE unless highly optimized."
   ]
  },
  {
   "cell_type": "code",
   "execution_count": 58,
   "metadata": {},
   "outputs": [],
   "source": [
    "# Extended Combined Dataset\n",
    "X_combined = np.array([\n",
    "    [1, 2, 0.1, 0.5, 10],\n",
    "    [2, 4, 0.1, 1, 20],\n",
    "    [3, 6, 0.1, 1.5, 30],\n",
    "    [4, 8, 0.1, 2, 40],\n",
    "    [5, 10, 0.1, 2.5, 50],\n",
    "    [6, 12, 0.1, 3, 60],\n",
    "    [7, 14, 0.1, 3.5, 70],\n",
    "    [8, 16, 0.1, 4, 80],\n",
    "    [9, 18, 0.1, 4.5, 90],\n",
    "    [10, 20, 0.1, 5, 100]\n",
    "])  # Feature 3 is constant, Feature 4 is strongly correlated with Feature 5.\n",
    "\n",
    "Y_combined = np.array([15, 30, 45, 60, 75, 90, 105, 120, 135, 150])  # Target is strongly correlated with Feature 5."
   ]
  },
  {
   "cell_type": "code",
   "execution_count": null,
   "metadata": {},
   "outputs": [],
   "source": [
    "# Step 1: Variance Threshold\n",
    "X_vt_combined, vt_indices = select_features_by_variance(X_combined, threshold=0.01)\n",
    "\n",
    "# Step 2: Correlation-Based Selection\n",
    "X_corr_combined, corr_indices = select_features_by_correlation(\n",
    "    X_vt_combined, Y_combined, target_threshold=0.1, inter_feature_threshold=0.95\n",
    ")\n",
    "\n",
    "# Step 3: Recursive Feature Elimination\n",
    "if X_corr_combined.shape[1] >= 2:  # Ensure at least 2 features for RFE\n",
    "    rfe = RFE(estimator=LinearRegression(), n_features_to_select=2)\n",
    "    X_rfe_combined = rfe.fit_transform(X_corr_combined, Y_combined)\n",
    "else:\n",
    "    print(\"\\nSkipping RFE: Not enough features remaining after previous steps.\")\n",
    "    X_rfe_combined = X_corr_combined  # Use the current dataset\n",
    "\n",
    "if X_corr_combined.shape[1] < 2:\n",
    "    print(\"\\nOnly one feature remaining after correlation-based selection:\")\n",
    "    print(X_corr_combined)"
   ]
  },
  {
   "cell_type": "code",
   "execution_count": 62,
   "metadata": {},
   "outputs": [],
   "source": [
    "def plot_selected_features(X, y, title=\"Final Selected Features\"):\n",
    "    plt.figure(figsize=(10, 6))\n",
    "    for i in range(X.shape[1]):\n",
    "        plt.scatter(X[:, i], y, label=f\"Feature {i + 1}\")\n",
    "\n",
    "    plt.title(title)\n",
    "    plt.xlabel(\"Feature Value\")\n",
    "    plt.ylabel(\"Target Value\")\n",
    "    plt.legend()\n",
    "    plt.show()"
   ]
  },
  {
   "cell_type": "code",
   "execution_count": null,
   "metadata": {},
   "outputs": [],
   "source": [
    "if X_rfe_combined.shape[1] > 1:\n",
    "    plot_selected_features(X_rfe_combined, Y_combined, title=\"Final Selected Features (Extended Dataset)\")\n",
    "else:\n",
    "    plt.figure(figsize=(8, 6))\n",
    "    plt.scatter(X_rfe_combined, Y_combined, color=\"blue\", label=\"Selected Feature\")\n",
    "    plt.title(\"Final Selected Feature (Extended Dataset)\")\n",
    "    plt.xlabel(\"Feature Value\")\n",
    "    plt.ylabel(\"Target Value\")\n",
    "    plt.legend()\n",
    "    plt.show()"
   ]
  }
 ],
 "metadata": {
  "kernelspec": {
   "display_name": "ml",
   "language": "python",
   "name": "python3"
  },
  "language_info": {
   "codemirror_mode": {
    "name": "ipython",
    "version": 3
   },
   "file_extension": ".py",
   "mimetype": "text/x-python",
   "name": "python",
   "nbconvert_exporter": "python",
   "pygments_lexer": "ipython3",
   "version": "3.12.3"
  }
 },
 "nbformat": 4,
 "nbformat_minor": 2
}
